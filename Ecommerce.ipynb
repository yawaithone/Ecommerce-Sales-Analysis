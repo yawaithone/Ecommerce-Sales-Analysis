{
  "nbformat": 4,
  "nbformat_minor": 0,
  "metadata": {
    "colab": {
      "provenance": []
    },
    "kernelspec": {
      "name": "python3",
      "display_name": "Python 3"
    },
    "language_info": {
      "name": "python"
    }
  },
  "cells": [
    {
      "cell_type": "code",
      "execution_count": null,
      "metadata": {
        "id": "vTq34LWlvcCa"
      },
      "outputs": [],
      "source": [
        "import pandas as pd\n",
        "import numpy as np\n",
        "import matplotlib.pyplot as plt\n",
        "import seaborn as sns\n",
        "\n",
        "customers = pd.read_csv('/content/Ecommerce_Customers.csv')\n",
        "orders = pd.read_csv('/content/Ecommerce_Orders.csv')\n",
        "products = pd.read_csv('/content/Ecommerce_Products.csv')"
      ]
    },
    {
      "cell_type": "code",
      "source": [
        "#check dataframes\n",
        "print(customers.head(5))"
      ],
      "metadata": {
        "colab": {
          "base_uri": "https://localhost:8080/"
        },
        "id": "5F5iCqq4xE4b",
        "outputId": "015fa015-6c0f-4635-8367-5d1c17e3e769"
      },
      "execution_count": null,
      "outputs": [
        {
          "output_type": "stream",
          "name": "stdout",
          "text": [
            "   Customer_ID        Name                  Email Region Registration_Date\n",
            "0            1  Customer 1  customer1@example.com  South         9/13/2023\n",
            "1            2  Customer 2  customer2@example.com   East         1/20/2023\n",
            "2            3  Customer 3  customer3@example.com   East          7/9/2023\n",
            "3            4  Customer 4  customer4@example.com  South          9/6/2023\n",
            "4            5  Customer 5  customer5@example.com   East         1/11/2023\n"
          ]
        }
      ]
    },
    {
      "cell_type": "code",
      "source": [
        "#check dataframes\n",
        "print(orders.head(5))"
      ],
      "metadata": {
        "colab": {
          "base_uri": "https://localhost:8080/"
        },
        "id": "6R-3MXeUxc7E",
        "outputId": "281c9403-2856-4f2b-f30d-82d3e5b0b8ec"
      },
      "execution_count": null,
      "outputs": [
        {
          "output_type": "stream",
          "name": "stdout",
          "text": [
            "   Order_ID  Customer_ID  Order_Date    Payment_Method Shipping_Method  \\\n",
            "0         1           96  2023-04-29       Credit Card         Express   \n",
            "1         2           14  2023-08-16            PayPal       Overnight   \n",
            "2         3           54  2023-06-25     Bank Transfer        Standard   \n",
            "3         4           34  2023-07-11  Cash on Delivery         Express   \n",
            "4         5           77  2023-01-22       Credit Card        Standard   \n",
            "\n",
            "   Total_Amount  Quantity  Product_ID  \n",
            "0        267.43         1          30  \n",
            "1        310.72         5          22  \n",
            "2        112.35         3           3  \n",
            "3        217.89         5          43  \n",
            "4        395.63         3          30  \n"
          ]
        }
      ]
    },
    {
      "cell_type": "code",
      "source": [
        "#check dataframes\n",
        "print(products.head(5))"
      ],
      "metadata": {
        "colab": {
          "base_uri": "https://localhost:8080/"
        },
        "id": "qg3We3zFxdyc",
        "outputId": "5cb2e58e-9e7a-4971-d3c6-a36e395f0674"
      },
      "execution_count": null,
      "outputs": [
        {
          "output_type": "stream",
          "name": "stdout",
          "text": [
            "   Product_ID Product_Name        Category Subcategory   Price\n",
            "0           1    Product 1          Beauty      Laptop  108.05\n",
            "1           2    Product 2  Home & Kitchen   Appliance   21.55\n",
            "2           3    Product 3     Electronics       Shoes   76.70\n",
            "3           4    Product 4        Clothing      Mobile  187.51\n",
            "4           5    Product 5  Home & Kitchen      Laptop  141.28\n"
          ]
        }
      ]
    },
    {
      "cell_type": "code",
      "source": [
        "#check duplicates\n",
        "#check missing values\n",
        "print(customers.duplicated().sum())\n",
        "\n",
        "print(orders.duplicated().sum())\n",
        "\n",
        "print(products.duplicated().sum())"
      ],
      "metadata": {
        "colab": {
          "base_uri": "https://localhost:8080/"
        },
        "id": "2Hum0_Ka14dt",
        "outputId": "8ffc6b8e-6ce4-4d0b-e8e4-33daeee1443f"
      },
      "execution_count": null,
      "outputs": [
        {
          "output_type": "stream",
          "name": "stdout",
          "text": [
            "0\n",
            "0\n",
            "0\n"
          ]
        }
      ]
    },
    {
      "cell_type": "code",
      "source": [
        "#drop duplicate\n",
        "customers.drop_duplicates(inplace = True)\n",
        "orders.drop_duplicates(inplace = True)\n",
        "products.drop_duplicates(inplace = True)"
      ],
      "metadata": {
        "id": "4m_Dw1ivyC3w"
      },
      "execution_count": null,
      "outputs": []
    },
    {
      "cell_type": "code",
      "source": [
        "#check missing values\n",
        "print(customers.isnull().sum())\n",
        "\n",
        "print(orders.isnull().sum())\n",
        "\n",
        "print(products.isnull().sum())"
      ],
      "metadata": {
        "colab": {
          "base_uri": "https://localhost:8080/"
        },
        "id": "495rpwYUxi8V",
        "outputId": "8179a521-218b-44f3-9279-0a2dfad3829d"
      },
      "execution_count": null,
      "outputs": [
        {
          "output_type": "stream",
          "name": "stdout",
          "text": [
            "Customer_ID          0\n",
            "Name                 0\n",
            "Email                0\n",
            "Region               0\n",
            "Registration_Date    0\n",
            "dtype: int64\n",
            "Order_ID           0\n",
            "Customer_ID        0\n",
            "Order_Date         0\n",
            "Payment_Method     0\n",
            "Shipping_Method    0\n",
            "Total_Amount       0\n",
            "Quantity           0\n",
            "Product_ID         0\n",
            "dtype: int64\n",
            "Product_ID      0\n",
            "Product_Name    0\n",
            "Category        0\n",
            "Subcategory     0\n",
            "Price           0\n",
            "dtype: int64\n"
          ]
        }
      ]
    },
    {
      "cell_type": "code",
      "source": [
        "#check data types\n",
        "print(customers.dtypes)\n",
        "print(orders.dtypes)\n",
        "print(products.dtypes)"
      ],
      "metadata": {
        "colab": {
          "base_uri": "https://localhost:8080/"
        },
        "id": "E6hcf0RlygUU",
        "outputId": "4ffdf520-1472-41c2-db67-5772353152ff"
      },
      "execution_count": null,
      "outputs": [
        {
          "output_type": "stream",
          "name": "stdout",
          "text": [
            "Customer_ID           int64\n",
            "Name                 object\n",
            "Email                object\n",
            "Region               object\n",
            "Registration_Date    object\n",
            "dtype: object\n",
            "Order_ID             int64\n",
            "Customer_ID          int64\n",
            "Order_Date          object\n",
            "Payment_Method      object\n",
            "Shipping_Method     object\n",
            "Total_Amount       float64\n",
            "Quantity             int64\n",
            "Product_ID           int64\n",
            "dtype: object\n",
            "Product_ID        int64\n",
            "Product_Name     object\n",
            "Category         object\n",
            "Subcategory      object\n",
            "Price           float64\n",
            "dtype: object\n"
          ]
        }
      ]
    },
    {
      "cell_type": "code",
      "source": [
        "#convert into appropriate data types\n",
        "orders['Order_Date']=pd.to_datetime(orders['Order_Date'])\n",
        "print(\"Orders Data Types:\")\n",
        "print(orders.dtypes)"
      ],
      "metadata": {
        "colab": {
          "base_uri": "https://localhost:8080/"
        },
        "id": "PUMzb55uyyZ9",
        "outputId": "010f7109-9e7b-427b-f18a-3d1d44311c93"
      },
      "execution_count": null,
      "outputs": [
        {
          "output_type": "stream",
          "name": "stdout",
          "text": [
            "Orders Data Types:\n",
            "Order_ID                    int64\n",
            "Customer_ID                 int64\n",
            "Order_Date         datetime64[ns]\n",
            "Payment_Method             object\n",
            "Shipping_Method            object\n",
            "Total_Amount              float64\n",
            "Quantity                    int64\n",
            "Product_ID                  int64\n",
            "dtype: object\n"
          ]
        }
      ]
    },
    {
      "cell_type": "code",
      "source": [
        "#convert into appropriate data types\n",
        "customers['Registration_Date']=pd.to_datetime(customers['Registration_Date'])\n",
        "print(\"Customers Data Types:\")\n",
        "print(customers.dtypes)"
      ],
      "metadata": {
        "colab": {
          "base_uri": "https://localhost:8080/"
        },
        "id": "Hw0seo6Z2GFE",
        "outputId": "07cabf33-b4a5-4233-8425-e24ef330c95d"
      },
      "execution_count": null,
      "outputs": [
        {
          "output_type": "stream",
          "name": "stdout",
          "text": [
            "Customers Data Types:\n",
            "Customer_ID                   int64\n",
            "Name                         object\n",
            "Email                        object\n",
            "Region                       object\n",
            "Registration_Date    datetime64[ns]\n",
            "dtype: object\n"
          ]
        }
      ]
    },
    {
      "cell_type": "code",
      "source": [
        "#add month column\n",
        "orders['Month']=orders['Order_Date'].dt.strftime('%b')"
      ],
      "metadata": {
        "id": "bwgeC9N8zRxF"
      },
      "execution_count": null,
      "outputs": []
    },
    {
      "cell_type": "code",
      "source": [
        "#merge data\n",
        "orders_products = pd.merge(orders,products, on = 'Product_ID', how = 'left' )\n",
        "\n",
        "#full data by merging 3 tables\n",
        "full_merge = pd.merge(orders_products, customers, on ='Customer_ID', how ='left')\n",
        "print(\"full data\")\n",
        "print(full_merge)"
      ],
      "metadata": {
        "colab": {
          "base_uri": "https://localhost:8080/"
        },
        "id": "7hfYYPKdz8fM",
        "outputId": "6a3c6cba-11da-4f27-a347-7c2ea325398a"
      },
      "execution_count": null,
      "outputs": [
        {
          "output_type": "stream",
          "name": "stdout",
          "text": [
            "full data\n",
            "     Order_ID  Customer_ID Order_Date    Payment_Method Shipping_Method  \\\n",
            "0           1           96 2023-04-29       Credit Card         Express   \n",
            "1           2           14 2023-08-16            PayPal       Overnight   \n",
            "2           3           54 2023-06-25     Bank Transfer        Standard   \n",
            "3           4           34 2023-07-11  Cash on Delivery         Express   \n",
            "4           5           77 2023-01-22       Credit Card        Standard   \n",
            "..        ...          ...        ...               ...             ...   \n",
            "295       296           83 2023-08-21  Cash on Delivery       Overnight   \n",
            "296       297           58 2023-05-15       Credit Card        Standard   \n",
            "297       298           52 2023-06-15       Credit Card        Standard   \n",
            "298       299           14 2023-02-16       Credit Card        Standard   \n",
            "299       300           32 2023-11-14  Cash on Delivery       Overnight   \n",
            "\n",
            "     Total_Amount  Quantity  Product_ID Month Product_Name        Category  \\\n",
            "0          267.43         1          30   Apr   Product 30     Electronics   \n",
            "1          310.72         5          22   Aug   Product 22        Clothing   \n",
            "2          112.35         3           3   Jun    Product 3     Electronics   \n",
            "3          217.89         5          43   Jul   Product 43  Home & Kitchen   \n",
            "4          395.63         3          30   Jan   Product 30     Electronics   \n",
            "..            ...       ...         ...   ...          ...             ...   \n",
            "295        350.81         2          22   Aug   Product 22        Clothing   \n",
            "296        433.33         3           6   May    Product 6  Home & Kitchen   \n",
            "297         65.53         4          46   Jun   Product 46          Beauty   \n",
            "298        462.68         2          14   Feb   Product 14  Home & Kitchen   \n",
            "299        480.93         5          41   Nov   Product 41     Electronics   \n",
            "\n",
            "    Subcategory   Price         Name                   Email Region  \\\n",
            "0         Shoes   97.57  Customer 96  customer96@example.com   West   \n",
            "1         Shirt   74.58  Customer 14  customer14@example.com  South   \n",
            "2         Shoes   76.70  Customer 54  customer54@example.com  South   \n",
            "3     Appliance   24.63  Customer 34  customer34@example.com  South   \n",
            "4         Shoes   97.57  Customer 77  customer77@example.com  South   \n",
            "..          ...     ...          ...                     ...    ...   \n",
            "295       Shirt   74.58  Customer 83  customer83@example.com  North   \n",
            "296       Shirt   60.29  Customer 58  customer58@example.com   East   \n",
            "297   Appliance  111.21  Customer 52  customer52@example.com  North   \n",
            "298       Shoes  138.63  Customer 14  customer14@example.com  South   \n",
            "299      Mobile   45.43  Customer 32  customer32@example.com   East   \n",
            "\n",
            "    Registration_Date  \n",
            "0          2023-06-27  \n",
            "1          2023-07-28  \n",
            "2          2023-11-22  \n",
            "3          2023-08-23  \n",
            "4          2023-04-01  \n",
            "..                ...  \n",
            "295        2023-09-10  \n",
            "296        2023-09-18  \n",
            "297        2023-11-15  \n",
            "298        2023-07-28  \n",
            "299        2023-05-17  \n",
            "\n",
            "[300 rows x 17 columns]\n"
          ]
        }
      ]
    },
    {
      "cell_type": "code",
      "source": [
        "#add total sales column to full_merge data\n",
        "full_merge['Total_Sales']= full_merge['Quantity']*full_merge['Price']"
      ],
      "metadata": {
        "id": "IvUCxb-38SfT"
      },
      "execution_count": null,
      "outputs": []
    },
    {
      "cell_type": "code",
      "source": [
        "#summary statistics\n",
        "full_merge.describe()"
      ],
      "metadata": {
        "id": "FL81eQhE8luq",
        "outputId": "43112ec3-8511-4313-ee9b-b381b55514e6",
        "colab": {
          "base_uri": "https://localhost:8080/",
          "height": 300
        }
      },
      "execution_count": null,
      "outputs": [
        {
          "output_type": "execute_result",
          "data": {
            "text/plain": [
              "         Order_ID  Customer_ID           Order_Date  Total_Amount    Quantity  \\\n",
              "count  300.000000   300.000000                  300    300.000000  300.000000   \n",
              "mean   150.500000    52.140000  2023-07-09 11:36:00    266.685233    3.106667   \n",
              "min      1.000000     1.000000  2023-01-02 00:00:00     11.600000    1.000000   \n",
              "25%     75.750000    27.000000  2023-04-19 12:00:00    151.220000    2.000000   \n",
              "50%    150.500000    54.500000  2023-07-19 12:00:00    266.715000    3.000000   \n",
              "75%    225.250000    76.250000  2023-10-05 00:00:00    389.847500    4.000000   \n",
              "max    300.000000   100.000000  2023-12-31 00:00:00    499.680000    5.000000   \n",
              "std     86.746758    28.867366                  NaN    142.108421    1.393471   \n",
              "\n",
              "       Product_ID       Price    Registration_Date  Total_Sales  \n",
              "count  300.000000  300.000000                  300   300.000000  \n",
              "mean    26.216667  105.151733  2023-07-01 16:24:00   327.003267  \n",
              "min      1.000000   10.640000  2023-01-03 00:00:00    10.640000  \n",
              "25%     14.000000   45.430000  2023-03-24 00:00:00   111.825000  \n",
              "50%     27.000000  111.210000  2023-07-19 00:00:00   286.590000  \n",
              "75%     38.000000  154.050000  2023-09-30 00:00:00   462.945000  \n",
              "max     50.000000  198.790000  2023-12-30 00:00:00   993.950000  \n",
              "std     14.283198   59.285864                  NaN   248.860514  "
            ],
            "text/html": [
              "\n",
              "  <div id=\"df-cd32830e-6944-4adf-8220-1ac9df8c40d9\" class=\"colab-df-container\">\n",
              "    <div>\n",
              "<style scoped>\n",
              "    .dataframe tbody tr th:only-of-type {\n",
              "        vertical-align: middle;\n",
              "    }\n",
              "\n",
              "    .dataframe tbody tr th {\n",
              "        vertical-align: top;\n",
              "    }\n",
              "\n",
              "    .dataframe thead th {\n",
              "        text-align: right;\n",
              "    }\n",
              "</style>\n",
              "<table border=\"1\" class=\"dataframe\">\n",
              "  <thead>\n",
              "    <tr style=\"text-align: right;\">\n",
              "      <th></th>\n",
              "      <th>Order_ID</th>\n",
              "      <th>Customer_ID</th>\n",
              "      <th>Order_Date</th>\n",
              "      <th>Total_Amount</th>\n",
              "      <th>Quantity</th>\n",
              "      <th>Product_ID</th>\n",
              "      <th>Price</th>\n",
              "      <th>Registration_Date</th>\n",
              "      <th>Total_Sales</th>\n",
              "    </tr>\n",
              "  </thead>\n",
              "  <tbody>\n",
              "    <tr>\n",
              "      <th>count</th>\n",
              "      <td>300.000000</td>\n",
              "      <td>300.000000</td>\n",
              "      <td>300</td>\n",
              "      <td>300.000000</td>\n",
              "      <td>300.000000</td>\n",
              "      <td>300.000000</td>\n",
              "      <td>300.000000</td>\n",
              "      <td>300</td>\n",
              "      <td>300.000000</td>\n",
              "    </tr>\n",
              "    <tr>\n",
              "      <th>mean</th>\n",
              "      <td>150.500000</td>\n",
              "      <td>52.140000</td>\n",
              "      <td>2023-07-09 11:36:00</td>\n",
              "      <td>266.685233</td>\n",
              "      <td>3.106667</td>\n",
              "      <td>26.216667</td>\n",
              "      <td>105.151733</td>\n",
              "      <td>2023-07-01 16:24:00</td>\n",
              "      <td>327.003267</td>\n",
              "    </tr>\n",
              "    <tr>\n",
              "      <th>min</th>\n",
              "      <td>1.000000</td>\n",
              "      <td>1.000000</td>\n",
              "      <td>2023-01-02 00:00:00</td>\n",
              "      <td>11.600000</td>\n",
              "      <td>1.000000</td>\n",
              "      <td>1.000000</td>\n",
              "      <td>10.640000</td>\n",
              "      <td>2023-01-03 00:00:00</td>\n",
              "      <td>10.640000</td>\n",
              "    </tr>\n",
              "    <tr>\n",
              "      <th>25%</th>\n",
              "      <td>75.750000</td>\n",
              "      <td>27.000000</td>\n",
              "      <td>2023-04-19 12:00:00</td>\n",
              "      <td>151.220000</td>\n",
              "      <td>2.000000</td>\n",
              "      <td>14.000000</td>\n",
              "      <td>45.430000</td>\n",
              "      <td>2023-03-24 00:00:00</td>\n",
              "      <td>111.825000</td>\n",
              "    </tr>\n",
              "    <tr>\n",
              "      <th>50%</th>\n",
              "      <td>150.500000</td>\n",
              "      <td>54.500000</td>\n",
              "      <td>2023-07-19 12:00:00</td>\n",
              "      <td>266.715000</td>\n",
              "      <td>3.000000</td>\n",
              "      <td>27.000000</td>\n",
              "      <td>111.210000</td>\n",
              "      <td>2023-07-19 00:00:00</td>\n",
              "      <td>286.590000</td>\n",
              "    </tr>\n",
              "    <tr>\n",
              "      <th>75%</th>\n",
              "      <td>225.250000</td>\n",
              "      <td>76.250000</td>\n",
              "      <td>2023-10-05 00:00:00</td>\n",
              "      <td>389.847500</td>\n",
              "      <td>4.000000</td>\n",
              "      <td>38.000000</td>\n",
              "      <td>154.050000</td>\n",
              "      <td>2023-09-30 00:00:00</td>\n",
              "      <td>462.945000</td>\n",
              "    </tr>\n",
              "    <tr>\n",
              "      <th>max</th>\n",
              "      <td>300.000000</td>\n",
              "      <td>100.000000</td>\n",
              "      <td>2023-12-31 00:00:00</td>\n",
              "      <td>499.680000</td>\n",
              "      <td>5.000000</td>\n",
              "      <td>50.000000</td>\n",
              "      <td>198.790000</td>\n",
              "      <td>2023-12-30 00:00:00</td>\n",
              "      <td>993.950000</td>\n",
              "    </tr>\n",
              "    <tr>\n",
              "      <th>std</th>\n",
              "      <td>86.746758</td>\n",
              "      <td>28.867366</td>\n",
              "      <td>NaN</td>\n",
              "      <td>142.108421</td>\n",
              "      <td>1.393471</td>\n",
              "      <td>14.283198</td>\n",
              "      <td>59.285864</td>\n",
              "      <td>NaN</td>\n",
              "      <td>248.860514</td>\n",
              "    </tr>\n",
              "  </tbody>\n",
              "</table>\n",
              "</div>\n",
              "    <div class=\"colab-df-buttons\">\n",
              "\n",
              "  <div class=\"colab-df-container\">\n",
              "    <button class=\"colab-df-convert\" onclick=\"convertToInteractive('df-cd32830e-6944-4adf-8220-1ac9df8c40d9')\"\n",
              "            title=\"Convert this dataframe to an interactive table.\"\n",
              "            style=\"display:none;\">\n",
              "\n",
              "  <svg xmlns=\"http://www.w3.org/2000/svg\" height=\"24px\" viewBox=\"0 -960 960 960\">\n",
              "    <path d=\"M120-120v-720h720v720H120Zm60-500h600v-160H180v160Zm220 220h160v-160H400v160Zm0 220h160v-160H400v160ZM180-400h160v-160H180v160Zm440 0h160v-160H620v160ZM180-180h160v-160H180v160Zm440 0h160v-160H620v160Z\"/>\n",
              "  </svg>\n",
              "    </button>\n",
              "\n",
              "  <style>\n",
              "    .colab-df-container {\n",
              "      display:flex;\n",
              "      gap: 12px;\n",
              "    }\n",
              "\n",
              "    .colab-df-convert {\n",
              "      background-color: #E8F0FE;\n",
              "      border: none;\n",
              "      border-radius: 50%;\n",
              "      cursor: pointer;\n",
              "      display: none;\n",
              "      fill: #1967D2;\n",
              "      height: 32px;\n",
              "      padding: 0 0 0 0;\n",
              "      width: 32px;\n",
              "    }\n",
              "\n",
              "    .colab-df-convert:hover {\n",
              "      background-color: #E2EBFA;\n",
              "      box-shadow: 0px 1px 2px rgba(60, 64, 67, 0.3), 0px 1px 3px 1px rgba(60, 64, 67, 0.15);\n",
              "      fill: #174EA6;\n",
              "    }\n",
              "\n",
              "    .colab-df-buttons div {\n",
              "      margin-bottom: 4px;\n",
              "    }\n",
              "\n",
              "    [theme=dark] .colab-df-convert {\n",
              "      background-color: #3B4455;\n",
              "      fill: #D2E3FC;\n",
              "    }\n",
              "\n",
              "    [theme=dark] .colab-df-convert:hover {\n",
              "      background-color: #434B5C;\n",
              "      box-shadow: 0px 1px 3px 1px rgba(0, 0, 0, 0.15);\n",
              "      filter: drop-shadow(0px 1px 2px rgba(0, 0, 0, 0.3));\n",
              "      fill: #FFFFFF;\n",
              "    }\n",
              "  </style>\n",
              "\n",
              "    <script>\n",
              "      const buttonEl =\n",
              "        document.querySelector('#df-cd32830e-6944-4adf-8220-1ac9df8c40d9 button.colab-df-convert');\n",
              "      buttonEl.style.display =\n",
              "        google.colab.kernel.accessAllowed ? 'block' : 'none';\n",
              "\n",
              "      async function convertToInteractive(key) {\n",
              "        const element = document.querySelector('#df-cd32830e-6944-4adf-8220-1ac9df8c40d9');\n",
              "        const dataTable =\n",
              "          await google.colab.kernel.invokeFunction('convertToInteractive',\n",
              "                                                    [key], {});\n",
              "        if (!dataTable) return;\n",
              "\n",
              "        const docLinkHtml = 'Like what you see? Visit the ' +\n",
              "          '<a target=\"_blank\" href=https://colab.research.google.com/notebooks/data_table.ipynb>data table notebook</a>'\n",
              "          + ' to learn more about interactive tables.';\n",
              "        element.innerHTML = '';\n",
              "        dataTable['output_type'] = 'display_data';\n",
              "        await google.colab.output.renderOutput(dataTable, element);\n",
              "        const docLink = document.createElement('div');\n",
              "        docLink.innerHTML = docLinkHtml;\n",
              "        element.appendChild(docLink);\n",
              "      }\n",
              "    </script>\n",
              "  </div>\n",
              "\n",
              "\n",
              "<div id=\"df-14f0644b-0639-4f4f-a95a-ccbfd7d858d7\">\n",
              "  <button class=\"colab-df-quickchart\" onclick=\"quickchart('df-14f0644b-0639-4f4f-a95a-ccbfd7d858d7')\"\n",
              "            title=\"Suggest charts\"\n",
              "            style=\"display:none;\">\n",
              "\n",
              "<svg xmlns=\"http://www.w3.org/2000/svg\" height=\"24px\"viewBox=\"0 0 24 24\"\n",
              "     width=\"24px\">\n",
              "    <g>\n",
              "        <path d=\"M19 3H5c-1.1 0-2 .9-2 2v14c0 1.1.9 2 2 2h14c1.1 0 2-.9 2-2V5c0-1.1-.9-2-2-2zM9 17H7v-7h2v7zm4 0h-2V7h2v10zm4 0h-2v-4h2v4z\"/>\n",
              "    </g>\n",
              "</svg>\n",
              "  </button>\n",
              "\n",
              "<style>\n",
              "  .colab-df-quickchart {\n",
              "      --bg-color: #E8F0FE;\n",
              "      --fill-color: #1967D2;\n",
              "      --hover-bg-color: #E2EBFA;\n",
              "      --hover-fill-color: #174EA6;\n",
              "      --disabled-fill-color: #AAA;\n",
              "      --disabled-bg-color: #DDD;\n",
              "  }\n",
              "\n",
              "  [theme=dark] .colab-df-quickchart {\n",
              "      --bg-color: #3B4455;\n",
              "      --fill-color: #D2E3FC;\n",
              "      --hover-bg-color: #434B5C;\n",
              "      --hover-fill-color: #FFFFFF;\n",
              "      --disabled-bg-color: #3B4455;\n",
              "      --disabled-fill-color: #666;\n",
              "  }\n",
              "\n",
              "  .colab-df-quickchart {\n",
              "    background-color: var(--bg-color);\n",
              "    border: none;\n",
              "    border-radius: 50%;\n",
              "    cursor: pointer;\n",
              "    display: none;\n",
              "    fill: var(--fill-color);\n",
              "    height: 32px;\n",
              "    padding: 0;\n",
              "    width: 32px;\n",
              "  }\n",
              "\n",
              "  .colab-df-quickchart:hover {\n",
              "    background-color: var(--hover-bg-color);\n",
              "    box-shadow: 0 1px 2px rgba(60, 64, 67, 0.3), 0 1px 3px 1px rgba(60, 64, 67, 0.15);\n",
              "    fill: var(--button-hover-fill-color);\n",
              "  }\n",
              "\n",
              "  .colab-df-quickchart-complete:disabled,\n",
              "  .colab-df-quickchart-complete:disabled:hover {\n",
              "    background-color: var(--disabled-bg-color);\n",
              "    fill: var(--disabled-fill-color);\n",
              "    box-shadow: none;\n",
              "  }\n",
              "\n",
              "  .colab-df-spinner {\n",
              "    border: 2px solid var(--fill-color);\n",
              "    border-color: transparent;\n",
              "    border-bottom-color: var(--fill-color);\n",
              "    animation:\n",
              "      spin 1s steps(1) infinite;\n",
              "  }\n",
              "\n",
              "  @keyframes spin {\n",
              "    0% {\n",
              "      border-color: transparent;\n",
              "      border-bottom-color: var(--fill-color);\n",
              "      border-left-color: var(--fill-color);\n",
              "    }\n",
              "    20% {\n",
              "      border-color: transparent;\n",
              "      border-left-color: var(--fill-color);\n",
              "      border-top-color: var(--fill-color);\n",
              "    }\n",
              "    30% {\n",
              "      border-color: transparent;\n",
              "      border-left-color: var(--fill-color);\n",
              "      border-top-color: var(--fill-color);\n",
              "      border-right-color: var(--fill-color);\n",
              "    }\n",
              "    40% {\n",
              "      border-color: transparent;\n",
              "      border-right-color: var(--fill-color);\n",
              "      border-top-color: var(--fill-color);\n",
              "    }\n",
              "    60% {\n",
              "      border-color: transparent;\n",
              "      border-right-color: var(--fill-color);\n",
              "    }\n",
              "    80% {\n",
              "      border-color: transparent;\n",
              "      border-right-color: var(--fill-color);\n",
              "      border-bottom-color: var(--fill-color);\n",
              "    }\n",
              "    90% {\n",
              "      border-color: transparent;\n",
              "      border-bottom-color: var(--fill-color);\n",
              "    }\n",
              "  }\n",
              "</style>\n",
              "\n",
              "  <script>\n",
              "    async function quickchart(key) {\n",
              "      const quickchartButtonEl =\n",
              "        document.querySelector('#' + key + ' button');\n",
              "      quickchartButtonEl.disabled = true;  // To prevent multiple clicks.\n",
              "      quickchartButtonEl.classList.add('colab-df-spinner');\n",
              "      try {\n",
              "        const charts = await google.colab.kernel.invokeFunction(\n",
              "            'suggestCharts', [key], {});\n",
              "      } catch (error) {\n",
              "        console.error('Error during call to suggestCharts:', error);\n",
              "      }\n",
              "      quickchartButtonEl.classList.remove('colab-df-spinner');\n",
              "      quickchartButtonEl.classList.add('colab-df-quickchart-complete');\n",
              "    }\n",
              "    (() => {\n",
              "      let quickchartButtonEl =\n",
              "        document.querySelector('#df-14f0644b-0639-4f4f-a95a-ccbfd7d858d7 button');\n",
              "      quickchartButtonEl.style.display =\n",
              "        google.colab.kernel.accessAllowed ? 'block' : 'none';\n",
              "    })();\n",
              "  </script>\n",
              "</div>\n",
              "    </div>\n",
              "  </div>\n"
            ],
            "application/vnd.google.colaboratory.intrinsic+json": {
              "type": "dataframe",
              "summary": "{\n  \"name\": \"full_merge\",\n  \"rows\": 8,\n  \"fields\": [\n    {\n      \"column\": \"Order_ID\",\n      \"properties\": {\n        \"dtype\": \"number\",\n        \"std\": 107.81683381169819,\n        \"min\": 1.0,\n        \"max\": 300.0,\n        \"num_unique_values\": 6,\n        \"samples\": [\n          300.0,\n          150.5,\n          86.74675786448736\n        ],\n        \"semantic_type\": \"\",\n        \"description\": \"\"\n      }\n    },\n    {\n      \"column\": \"Customer_ID\",\n      \"properties\": {\n        \"dtype\": \"number\",\n        \"std\": 94.04028848429341,\n        \"min\": 1.0,\n        \"max\": 300.0,\n        \"num_unique_values\": 8,\n        \"samples\": [\n          52.14,\n          76.25,\n          300.0\n        ],\n        \"semantic_type\": \"\",\n        \"description\": \"\"\n      }\n    },\n    {\n      \"column\": \"Order_Date\",\n      \"properties\": {\n        \"dtype\": \"date\",\n        \"min\": \"1970-01-01 00:00:00.000000300\",\n        \"max\": \"2023-12-31 00:00:00\",\n        \"num_unique_values\": 7,\n        \"samples\": [\n          \"300\",\n          \"2023-07-09 11:36:00\",\n          \"2023-10-05 00:00:00\"\n        ],\n        \"semantic_type\": \"\",\n        \"description\": \"\"\n      }\n    },\n    {\n      \"column\": \"Total_Amount\",\n      \"properties\": {\n        \"dtype\": \"number\",\n        \"std\": 152.6390979302423,\n        \"min\": 11.6,\n        \"max\": 499.68,\n        \"num_unique_values\": 8,\n        \"samples\": [\n          266.6852333333333,\n          389.84749999999997,\n          300.0\n        ],\n        \"semantic_type\": \"\",\n        \"description\": \"\"\n      }\n    },\n    {\n      \"column\": \"Quantity\",\n      \"properties\": {\n        \"dtype\": \"number\",\n        \"std\": 105.08945230007089,\n        \"min\": 1.0,\n        \"max\": 300.0,\n        \"num_unique_values\": 8,\n        \"samples\": [\n          3.1066666666666665,\n          4.0,\n          300.0\n        ],\n        \"semantic_type\": \"\",\n        \"description\": \"\"\n      }\n    },\n    {\n      \"column\": \"Product_ID\",\n      \"properties\": {\n        \"dtype\": \"number\",\n        \"std\": 98.62632073696463,\n        \"min\": 1.0,\n        \"max\": 300.0,\n        \"num_unique_values\": 8,\n        \"samples\": [\n          26.216666666666665,\n          38.0,\n          300.0\n        ],\n        \"semantic_type\": \"\",\n        \"description\": \"\"\n      }\n    },\n    {\n      \"column\": \"Price\",\n      \"properties\": {\n        \"dtype\": \"number\",\n        \"std\": 93.50028118268435,\n        \"min\": 10.64,\n        \"max\": 300.0,\n        \"num_unique_values\": 8,\n        \"samples\": [\n          105.15173333333333,\n          154.05,\n          300.0\n        ],\n        \"semantic_type\": \"\",\n        \"description\": \"\"\n      }\n    },\n    {\n      \"column\": \"Registration_Date\",\n      \"properties\": {\n        \"dtype\": \"date\",\n        \"min\": \"1970-01-01 00:00:00.000000300\",\n        \"max\": \"2023-12-30 00:00:00\",\n        \"num_unique_values\": 7,\n        \"samples\": [\n          \"300\",\n          \"2023-07-01 16:24:00\",\n          \"2023-09-30 00:00:00\"\n        ],\n        \"semantic_type\": \"\",\n        \"description\": \"\"\n      }\n    },\n    {\n      \"column\": \"Total_Sales\",\n      \"properties\": {\n        \"dtype\": \"number\",\n        \"std\": 296.6904073591662,\n        \"min\": 10.64,\n        \"max\": 993.9499999999999,\n        \"num_unique_values\": 8,\n        \"samples\": [\n          327.0032666666667,\n          462.94500000000005,\n          300.0\n        ],\n        \"semantic_type\": \"\",\n        \"description\": \"\"\n      }\n    }\n  ]\n}"
            }
          },
          "metadata": {},
          "execution_count": 51
        }
      ]
    },
    {
      "cell_type": "code",
      "source": [
        "#Group by Spending Category\n",
        "bins =[0,250,500,800,1000]\n",
        "labels =['low','med','high','very-high']\n",
        "full_merge['Spending_category']=pd.cut(full_merge['Total_Sales'],bins = bins, labels = labels)\n",
        "print(full_merge['Spending_category'].value_counts())"
      ],
      "metadata": {
        "colab": {
          "base_uri": "https://localhost:8080/"
        },
        "id": "q3suaHG727KB",
        "outputId": "1dd8042a-1dc3-4388-ca3e-3a631df84fec"
      },
      "execution_count": null,
      "outputs": [
        {
          "output_type": "stream",
          "name": "stdout",
          "text": [
            "Spending_category\n",
            "low          137\n",
            "med           90\n",
            "high          60\n",
            "very-high     13\n",
            "Name: count, dtype: int64\n"
          ]
        }
      ]
    },
    {
      "cell_type": "code",
      "source": [
        "# Top-selling 5 sub categories\n",
        "top_subcategory = full_merge.groupby('Subcategory')['Total_Sales'].sum().sort_values(ascending = False)\n",
        "print(top_subcategory.head(10))"
      ],
      "metadata": {
        "colab": {
          "base_uri": "https://localhost:8080/"
        },
        "id": "S_olEh4l4WVR",
        "outputId": "2c1de360-0e69-41d7-f4be-d040f66e0b0d"
      },
      "execution_count": null,
      "outputs": [
        {
          "output_type": "stream",
          "name": "stdout",
          "text": [
            "Subcategory\n",
            "Mobile       25143.84\n",
            "Shoes        23371.54\n",
            "Laptop       23021.09\n",
            "Makeup       11240.06\n",
            "Appliance     9224.68\n",
            "Shirt         6099.77\n",
            "Name: Total_Sales, dtype: float64\n"
          ]
        }
      ]
    },
    {
      "cell_type": "code",
      "source": [
        "!pip install ipython-sql prettytable\n",
        "import prettytable\n",
        "prettytable.DEFAULT = 'DEFAULT'"
      ],
      "metadata": {
        "colab": {
          "base_uri": "https://localhost:8080/"
        },
        "id": "8H96PH8f6e_F",
        "outputId": "58194126-c769-4504-80b2-41cb22976200"
      },
      "execution_count": null,
      "outputs": [
        {
          "output_type": "stream",
          "name": "stdout",
          "text": [
            "Requirement already satisfied: ipython-sql in /usr/local/lib/python3.10/dist-packages (0.5.0)\n",
            "Requirement already satisfied: prettytable in /usr/local/lib/python3.10/dist-packages (3.12.0)\n",
            "Requirement already satisfied: ipython in /usr/local/lib/python3.10/dist-packages (from ipython-sql) (7.34.0)\n",
            "Requirement already satisfied: sqlalchemy>=2.0 in /usr/local/lib/python3.10/dist-packages (from ipython-sql) (2.0.36)\n",
            "Requirement already satisfied: sqlparse in /usr/local/lib/python3.10/dist-packages (from ipython-sql) (0.5.3)\n",
            "Requirement already satisfied: six in /usr/local/lib/python3.10/dist-packages (from ipython-sql) (1.17.0)\n",
            "Requirement already satisfied: ipython-genutils in /usr/local/lib/python3.10/dist-packages (from ipython-sql) (0.2.0)\n",
            "Requirement already satisfied: wcwidth in /usr/local/lib/python3.10/dist-packages (from prettytable) (0.2.13)\n",
            "Requirement already satisfied: typing-extensions>=4.6.0 in /usr/local/lib/python3.10/dist-packages (from sqlalchemy>=2.0->ipython-sql) (4.12.2)\n",
            "Requirement already satisfied: greenlet!=0.4.17 in /usr/local/lib/python3.10/dist-packages (from sqlalchemy>=2.0->ipython-sql) (3.1.1)\n",
            "Requirement already satisfied: setuptools>=18.5 in /usr/local/lib/python3.10/dist-packages (from ipython->ipython-sql) (75.1.0)\n",
            "Requirement already satisfied: jedi>=0.16 in /usr/local/lib/python3.10/dist-packages (from ipython->ipython-sql) (0.19.2)\n",
            "Requirement already satisfied: decorator in /usr/local/lib/python3.10/dist-packages (from ipython->ipython-sql) (4.4.2)\n",
            "Requirement already satisfied: pickleshare in /usr/local/lib/python3.10/dist-packages (from ipython->ipython-sql) (0.7.5)\n",
            "Requirement already satisfied: traitlets>=4.2 in /usr/local/lib/python3.10/dist-packages (from ipython->ipython-sql) (5.7.1)\n",
            "Requirement already satisfied: prompt-toolkit!=3.0.0,!=3.0.1,<3.1.0,>=2.0.0 in /usr/local/lib/python3.10/dist-packages (from ipython->ipython-sql) (3.0.48)\n",
            "Requirement already satisfied: pygments in /usr/local/lib/python3.10/dist-packages (from ipython->ipython-sql) (2.18.0)\n",
            "Requirement already satisfied: backcall in /usr/local/lib/python3.10/dist-packages (from ipython->ipython-sql) (0.2.0)\n",
            "Requirement already satisfied: matplotlib-inline in /usr/local/lib/python3.10/dist-packages (from ipython->ipython-sql) (0.1.7)\n",
            "Requirement already satisfied: pexpect>4.3 in /usr/local/lib/python3.10/dist-packages (from ipython->ipython-sql) (4.9.0)\n",
            "Requirement already satisfied: parso<0.9.0,>=0.8.4 in /usr/local/lib/python3.10/dist-packages (from jedi>=0.16->ipython->ipython-sql) (0.8.4)\n",
            "Requirement already satisfied: ptyprocess>=0.5 in /usr/local/lib/python3.10/dist-packages (from pexpect>4.3->ipython->ipython-sql) (0.7.0)\n"
          ]
        }
      ]
    },
    {
      "cell_type": "code",
      "source": [
        "%load_ext sql"
      ],
      "metadata": {
        "id": "a8-3JLF76xED",
        "colab": {
          "base_uri": "https://localhost:8080/"
        },
        "outputId": "a72e896d-2796-40ab-c9ec-6723d95f50a3"
      },
      "execution_count": null,
      "outputs": [
        {
          "output_type": "stream",
          "name": "stdout",
          "text": [
            "The sql extension is already loaded. To reload it, use:\n",
            "  %reload_ext sql\n"
          ]
        }
      ]
    },
    {
      "cell_type": "code",
      "source": [
        "#connecting SQL\n",
        "import sqlite3\n",
        "con = sqlite3.connect('ecommerce.db')\n",
        "full_merge.to_sql('ecommerce',con, if_exists='replace',index = False)"
      ],
      "metadata": {
        "id": "q65MDBFI007V",
        "colab": {
          "base_uri": "https://localhost:8080/"
        },
        "outputId": "6c55b910-d102-4674-e80e-8c8ab7f70c5e"
      },
      "execution_count": null,
      "outputs": [
        {
          "output_type": "execute_result",
          "data": {
            "text/plain": [
              "300"
            ]
          },
          "metadata": {},
          "execution_count": 56
        }
      ]
    },
    {
      "cell_type": "code",
      "source": [
        "%sql sqlite:///ecommerce.db"
      ],
      "metadata": {
        "id": "zBvg4TWs56kc"
      },
      "execution_count": null,
      "outputs": []
    },
    {
      "cell_type": "code",
      "source": [
        "#Top subcategory sales\n",
        "%sql select Subcategory, sum(round(Total_Sales)) as Total_Sales from ecommerce group by Subcategory order by Total_Sales desc;"
      ],
      "metadata": {
        "id": "eRqqopG8046c",
        "colab": {
          "base_uri": "https://localhost:8080/",
          "height": 201
        },
        "outputId": "ed947d4f-ba15-4270-ce57-f37a8d60c763"
      },
      "execution_count": null,
      "outputs": [
        {
          "output_type": "stream",
          "name": "stdout",
          "text": [
            " * sqlite:///ecommerce.db\n",
            "Done.\n"
          ]
        },
        {
          "output_type": "execute_result",
          "data": {
            "text/plain": [
              "[('Mobile', 25146.0),\n",
              " ('Shoes', 23374.0),\n",
              " ('Laptop', 23017.0),\n",
              " ('Makeup', 11237.0),\n",
              " ('Appliance', 9227.0),\n",
              " ('Shirt', 6100.0)]"
            ],
            "text/html": [
              "<table>\n",
              "    <thead>\n",
              "        <tr>\n",
              "            <th>Subcategory</th>\n",
              "            <th>Total_Sales</th>\n",
              "        </tr>\n",
              "    </thead>\n",
              "    <tbody>\n",
              "        <tr>\n",
              "            <td>Mobile</td>\n",
              "            <td>25146.0</td>\n",
              "        </tr>\n",
              "        <tr>\n",
              "            <td>Shoes</td>\n",
              "            <td>23374.0</td>\n",
              "        </tr>\n",
              "        <tr>\n",
              "            <td>Laptop</td>\n",
              "            <td>23017.0</td>\n",
              "        </tr>\n",
              "        <tr>\n",
              "            <td>Makeup</td>\n",
              "            <td>11237.0</td>\n",
              "        </tr>\n",
              "        <tr>\n",
              "            <td>Appliance</td>\n",
              "            <td>9227.0</td>\n",
              "        </tr>\n",
              "        <tr>\n",
              "            <td>Shirt</td>\n",
              "            <td>6100.0</td>\n",
              "        </tr>\n",
              "    </tbody>\n",
              "</table>"
            ]
          },
          "metadata": {},
          "execution_count": 58
        }
      ]
    },
    {
      "cell_type": "code",
      "source": [
        "#Top subcategory sales in pie chart\n",
        "import matplotlib.pyplot as plt\n",
        "result1 = %sql select Subcategory, sum(round(Total_Sales)) as Total_Sales from ecommerce group by Subcategory order by Total_Sales desc;\n",
        "df_subcategory = pd.DataFrame(result1, columns = [\"Subcategory\",\"Sum\"])\n",
        "plt.pie(df_subcategory['Sum'],labels = df_subcategory['Subcategory'],autopct = '%1.1f%%',startangle = 140, colors = plt.cm.Paired.colors)\n",
        "plt.title('Pie Chart of Subcategory Sales')\n",
        "plt.show()"
      ],
      "metadata": {
        "colab": {
          "base_uri": "https://localhost:8080/",
          "height": 464
        },
        "id": "pzdFR8HE87Iu",
        "outputId": "3f0373f3-cfb2-4df2-b040-0adb8738c048"
      },
      "execution_count": null,
      "outputs": [
        {
          "output_type": "stream",
          "name": "stdout",
          "text": [
            " * sqlite:///ecommerce.db\n",
            "Done.\n"
          ]
        },
        {
          "output_type": "display_data",
          "data": {
            "text/plain": [
              "<Figure size 640x480 with 1 Axes>"
            ],
            "image/png": "[encoded data removed]"
          },
          "metadata": {}
        }
      ]
    },
    {
      "cell_type": "code",
      "source": [
        "#payment method\n",
        "%sql select Payment_Method, count(*) as no_of_times_pay from ecommerce group by Payment_Method order by no_of_times_pay desc;"
      ],
      "metadata": {
        "colab": {
          "base_uri": "https://localhost:8080/",
          "height": 159
        },
        "id": "QdiHmdZa6EAx",
        "outputId": "02181c56-b364-4fb4-ac9f-e831bee0a267"
      },
      "execution_count": null,
      "outputs": [
        {
          "output_type": "stream",
          "name": "stdout",
          "text": [
            " * sqlite:///ecommerce.db\n",
            "Done.\n"
          ]
        },
        {
          "output_type": "execute_result",
          "data": {
            "text/plain": [
              "[('PayPal', 87),\n",
              " ('Credit Card', 78),\n",
              " ('Cash on Delivery', 72),\n",
              " ('Bank Transfer', 63)]"
            ],
            "text/html": [
              "<table>\n",
              "    <thead>\n",
              "        <tr>\n",
              "            <th>Payment_Method</th>\n",
              "            <th>no_of_times_pay</th>\n",
              "        </tr>\n",
              "    </thead>\n",
              "    <tbody>\n",
              "        <tr>\n",
              "            <td>PayPal</td>\n",
              "            <td>87</td>\n",
              "        </tr>\n",
              "        <tr>\n",
              "            <td>Credit Card</td>\n",
              "            <td>78</td>\n",
              "        </tr>\n",
              "        <tr>\n",
              "            <td>Cash on Delivery</td>\n",
              "            <td>72</td>\n",
              "        </tr>\n",
              "        <tr>\n",
              "            <td>Bank Transfer</td>\n",
              "            <td>63</td>\n",
              "        </tr>\n",
              "    </tbody>\n",
              "</table>"
            ]
          },
          "metadata": {},
          "execution_count": 60
        }
      ]
    },
    {
      "cell_type": "code",
      "source": [
        "#payment method in bar chart\n",
        "import matplotlib.pyplot as plt\n",
        "result2 =%sql select Payment_Method, count(*) as no_of_times_pay from ecommerce group by Payment_Method order by no_of_times_pay desc;\n",
        "df_payment = pd.DataFrame(result2, columns = [\"Payment\",\"Count\"])\n",
        "plt.bar(df_payment['Payment'], df_payment['Count'], color=plt.cm.Paired.colors)\n",
        "plt.xlabel('Payment Method')\n",
        "plt.ylabel('Payment Times')\n",
        "plt.title('Stacked Bar Chart of Payment Methods')\n",
        "plt.xticks(rotation=45)  # Rotate x-axis labels for better readability\n",
        "plt.show()"
      ],
      "metadata": {
        "colab": {
          "base_uri": "https://localhost:8080/",
          "height": 587
        },
        "id": "QhK-iOx76G76",
        "outputId": "8fdadded-fab6-4172-c178-4a4878f7ab43"
      },
      "execution_count": null,
      "outputs": [
        {
          "output_type": "stream",
          "name": "stdout",
          "text": [
            " * sqlite:///ecommerce.db\n",
            "Done.\n"
          ]
        },
        {
          "output_type": "display_data",
          "data": {
            "text/plain": [
              "<Figure size 640x480 with 1 Axes>"
            ],
            "image/png": "[encoded data removed]"
          },
          "metadata": {}
        }
      ]
    },
    {
      "cell_type": "code",
      "source": [
        "%sql SELECT CASE strftime('%m', Order_Date) WHEN '01' THEN 'Jan' WHEN '02' THEN 'Feb'WHEN '03' THEN 'Mar' WHEN '04' THEN 'Apr' WHEN '05' THEN 'May' WHEN '06' THEN 'Jun' WHEN '07' THEN 'Jul' WHEN '08' THEN 'Aug' WHEN '09' THEN 'Sep' WHEN '10' THEN 'Oct' WHEN '11' THEN 'Nov' WHEN '12' THEN 'Dec' END AS Month, SUM(Total_Sales) AS total_sales FROM ecommerce GROUP BY strftime('%m', Order_Date) ORDER BY strftime('%m', Order_Date);"
      ],
      "metadata": {
        "colab": {
          "base_uri": "https://localhost:8080/",
          "height": 326
        },
        "id": "kzV76hQk6JUN",
        "outputId": "1f8397e4-43bc-434b-d42d-d8f90c35d229"
      },
      "execution_count": null,
      "outputs": [
        {
          "output_type": "stream",
          "name": "stdout",
          "text": [
            " * sqlite:///ecommerce.db\n",
            "Done.\n"
          ]
        },
        {
          "output_type": "execute_result",
          "data": {
            "text/plain": [
              "[('Jan', 8132.97),\n",
              " ('Feb', 5215.88),\n",
              " ('Mar', 6398.919999999999),\n",
              " ('Apr', 8561.41),\n",
              " ('May', 7877.379999999999),\n",
              " ('Jun', 9451.01),\n",
              " ('Jul', 8245.82),\n",
              " ('Aug', 12549.49),\n",
              " ('Sep', 10917.58),\n",
              " ('Oct', 9814.53),\n",
              " ('Nov', 6589.6900000000005),\n",
              " ('Dec', 4346.3)]"
            ],
            "text/html": [
              "<table>\n",
              "    <thead>\n",
              "        <tr>\n",
              "            <th>Month</th>\n",
              "            <th>total_sales</th>\n",
              "        </tr>\n",
              "    </thead>\n",
              "    <tbody>\n",
              "        <tr>\n",
              "            <td>Jan</td>\n",
              "            <td>8132.97</td>\n",
              "        </tr>\n",
              "        <tr>\n",
              "            <td>Feb</td>\n",
              "            <td>5215.88</td>\n",
              "        </tr>\n",
              "        <tr>\n",
              "            <td>Mar</td>\n",
              "            <td>6398.919999999999</td>\n",
              "        </tr>\n",
              "        <tr>\n",
              "            <td>Apr</td>\n",
              "            <td>8561.41</td>\n",
              "        </tr>\n",
              "        <tr>\n",
              "            <td>May</td>\n",
              "            <td>7877.379999999999</td>\n",
              "        </tr>\n",
              "        <tr>\n",
              "            <td>Jun</td>\n",
              "            <td>9451.01</td>\n",
              "        </tr>\n",
              "        <tr>\n",
              "            <td>Jul</td>\n",
              "            <td>8245.82</td>\n",
              "        </tr>\n",
              "        <tr>\n",
              "            <td>Aug</td>\n",
              "            <td>12549.49</td>\n",
              "        </tr>\n",
              "        <tr>\n",
              "            <td>Sep</td>\n",
              "            <td>10917.58</td>\n",
              "        </tr>\n",
              "        <tr>\n",
              "            <td>Oct</td>\n",
              "            <td>9814.53</td>\n",
              "        </tr>\n",
              "        <tr>\n",
              "            <td>Nov</td>\n",
              "            <td>6589.6900000000005</td>\n",
              "        </tr>\n",
              "        <tr>\n",
              "            <td>Dec</td>\n",
              "            <td>4346.3</td>\n",
              "        </tr>\n",
              "    </tbody>\n",
              "</table>"
            ]
          },
          "metadata": {},
          "execution_count": 62
        }
      ]
    },
    {
      "cell_type": "code",
      "source": [
        "#montly sales in line chart\n",
        "result3 = %sql SELECT CASE strftime('%m', Order_Date) WHEN '01' THEN 'Jan' WHEN '02' THEN 'Feb'WHEN '03' THEN 'Mar' WHEN '04' THEN 'Apr' WHEN '05' THEN 'May' WHEN '06' THEN 'Jun' WHEN '07' THEN 'Jul' WHEN '08' THEN 'Aug' WHEN '09' THEN 'Sep' WHEN '10' THEN 'Oct' WHEN '11' THEN 'Nov' WHEN '12' THEN 'Dec' END AS Month, SUM(Total_Sales) AS total_sales FROM ecommerce GROUP BY strftime('%m', Order_Date) ORDER BY strftime('%m', Order_Date);\n",
        "df_monthly_sales = pd.DataFrame(result3, columns =[\"Month\",\"Sales\"])\n",
        "plt.plot(df_monthly_sales['Month'], df_monthly_sales['Sales'], data = df_monthly_sales, marker ='o')\n",
        "plt.title(\"Montly Sales\")\n",
        "plt.show()"
      ],
      "metadata": {
        "colab": {
          "base_uri": "https://localhost:8080/",
          "height": 488
        },
        "id": "Ek8BYe1H6ODJ",
        "outputId": "b0394599-b448-4ded-bfa0-848ceb20a00c"
      },
      "execution_count": null,
      "outputs": [
        {
          "output_type": "stream",
          "name": "stdout",
          "text": [
            " * sqlite:///ecommerce.db\n",
            "Done.\n"
          ]
        },
        {
          "output_type": "display_data",
          "data": {
            "text/plain": [
              "<Figure size 640x480 with 1 Axes>"
            ],
            "image/png": "[encoded data removed]"
          },
          "metadata": {}
        }
      ]
    },
    {
      "cell_type": "code",
      "source": [
        "#shipping method\n",
        "%sql select Shipping_Method, Sum(Quantity) as quantity from ecommerce group by Shipping_Method order by quantity desc;"
      ],
      "metadata": {
        "colab": {
          "base_uri": "https://localhost:8080/",
          "height": 138
        },
        "id": "eJqKa4H_6RMk",
        "outputId": "1065f7fe-d85b-468f-8da2-665a61ccb28f"
      },
      "execution_count": null,
      "outputs": [
        {
          "output_type": "stream",
          "name": "stdout",
          "text": [
            " * sqlite:///ecommerce.db\n",
            "Done.\n"
          ]
        },
        {
          "output_type": "execute_result",
          "data": {
            "text/plain": [
              "[('Overnight', 334), ('Express', 329), ('Standard', 269)]"
            ],
            "text/html": [
              "<table>\n",
              "    <thead>\n",
              "        <tr>\n",
              "            <th>Shipping_Method</th>\n",
              "            <th>quantity</th>\n",
              "        </tr>\n",
              "    </thead>\n",
              "    <tbody>\n",
              "        <tr>\n",
              "            <td>Overnight</td>\n",
              "            <td>334</td>\n",
              "        </tr>\n",
              "        <tr>\n",
              "            <td>Express</td>\n",
              "            <td>329</td>\n",
              "        </tr>\n",
              "        <tr>\n",
              "            <td>Standard</td>\n",
              "            <td>269</td>\n",
              "        </tr>\n",
              "    </tbody>\n",
              "</table>"
            ]
          },
          "metadata": {},
          "execution_count": 64
        }
      ]
    },
    {
      "cell_type": "code",
      "source": [
        "#shipping method in bar\n",
        "result4 = %sql select Shipping_Method, Sum(Quantity) as quantity from ecommerce group by Shipping_Method order by quantity desc;\n",
        "df_shipping = pd.DataFrame(result4, columns = [\"Shipping Method\",\"Quantity\"])\n",
        "plt.figure(figsize=(10, 6))\n",
        "plt.bar(df_shipping['Shipping Method'], df_shipping['Quantity'], color='purple', alpha=0.7)\n",
        "plt.title('Shipping Method by Quantity')\n",
        "plt.xlabel('Shipping Method')\n",
        "plt.ylabel('Quantity')\n",
        "plt.xticks(rotation=45)\n",
        "plt.show"
      ],
      "metadata": {
        "id": "2I2HH8gzxpX7",
        "colab": {
          "base_uri": "https://localhost:8080/",
          "height": 814
        },
        "outputId": "ec3166b3-a2a4-4235-dede-912ddfd11cc3"
      },
      "execution_count": null,
      "outputs": [
        {
          "output_type": "stream",
          "name": "stdout",
          "text": [
            " * sqlite:///ecommerce.db\n",
            "Done.\n"
          ]
        },
        {
          "output_type": "execute_result",
          "data": {
            "text/plain": [
              "<function matplotlib.pyplot.show(close=None, block=None)>"
            ],
            "text/html": [
              "<div style=\"max-width:800px; border: 1px solid var(--colab-border-color);\"><style>\n",
              "      pre.function-repr-contents {\n",
              "        overflow-x: auto;\n",
              "        padding: 8px 12px;\n",
              "        max-height: 500px;\n",
              "      }\n",
              "\n",
              "      pre.function-repr-contents.function-repr-contents-collapsed {\n",
              "        cursor: pointer;\n",
              "        max-height: 100px;\n",
              "      }\n",
              "    </style>\n",
              "    <pre style=\"white-space: initial; background:\n",
              "         var(--colab-secondary-surface-color); padding: 8px 12px;\n",
              "         border-bottom: 1px solid var(--colab-border-color);\"><b>matplotlib.pyplot.show</b><br/>def show(*args, **kwargs) -&gt; None</pre><pre class=\"function-repr-contents function-repr-contents-collapsed\" style=\"\"><a class=\"filepath\" style=\"display:none\" href=\"#\">/usr/local/lib/python3.10/dist-packages/matplotlib/pyplot.py</a>Display all open figures.\n",
              "\n",
              "Parameters\n",
              "----------\n",
              "block : bool, optional\n",
              "    Whether to wait for all figures to be closed before returning.\n",
              "\n",
              "    If `True` block and run the GUI main loop until all figure windows\n",
              "    are closed.\n",
              "\n",
              "    If `False` ensure that all figure windows are displayed and return\n",
              "    immediately.  In this case, you are responsible for ensuring\n",
              "    that the event loop is running to have responsive figures.\n",
              "\n",
              "    Defaults to True in non-interactive mode and to False in interactive\n",
              "    mode (see `.pyplot.isinteractive`).\n",
              "\n",
              "See Also\n",
              "--------\n",
              "ion : Enable interactive mode, which shows / updates the figure after\n",
              "      every plotting command, so that calling ``show()`` is not necessary.\n",
              "ioff : Disable interactive mode.\n",
              "savefig : Save the figure to an image file instead of showing it on screen.\n",
              "\n",
              "Notes\n",
              "-----\n",
              "**Saving figures to file and showing a window at the same time**\n",
              "\n",
              "If you want an image file as well as a user interface window, use\n",
              "`.pyplot.savefig` before `.pyplot.show`. At the end of (a blocking)\n",
              "``show()`` the figure is closed and thus unregistered from pyplot. Calling\n",
              "`.pyplot.savefig` afterwards would save a new and thus empty figure. This\n",
              "limitation of command order does not apply if the show is non-blocking or\n",
              "if you keep a reference to the figure and use `.Figure.savefig`.\n",
              "\n",
              "**Auto-show in jupyter notebooks**\n",
              "\n",
              "The jupyter backends (activated via ``%matplotlib inline``,\n",
              "``%matplotlib notebook``, or ``%matplotlib widget``), call ``show()`` at\n",
              "the end of every cell by default. Thus, you usually don&#x27;t have to call it\n",
              "explicitly there.</pre>\n",
              "      <script>\n",
              "      if (google.colab.kernel.accessAllowed && google.colab.files && google.colab.files.view) {\n",
              "        for (const element of document.querySelectorAll('.filepath')) {\n",
              "          element.style.display = 'block'\n",
              "          element.onclick = (event) => {\n",
              "            event.preventDefault();\n",
              "            event.stopPropagation();\n",
              "            google.colab.files.view(element.textContent, 569);\n",
              "          };\n",
              "        }\n",
              "      }\n",
              "      for (const element of document.querySelectorAll('.function-repr-contents')) {\n",
              "        element.onclick = (event) => {\n",
              "          event.preventDefault();\n",
              "          event.stopPropagation();\n",
              "          element.classList.toggle('function-repr-contents-collapsed');\n",
              "        };\n",
              "      }\n",
              "      </script>\n",
              "      </div>"
            ]
          },
          "metadata": {},
          "execution_count": 65
        },
        {
          "output_type": "display_data",
          "data": {
            "text/plain": [
              "<Figure size 1000x600 with 1 Axes>"
            ],
            "image/png": "[encoded data removed]"
          },
          "metadata": {}
        }
      ]
    },
    {
      "cell_type": "code",
      "source": [
        "#sales by region\n",
        "%sql select Region, Sum(Round(Total_Sales)) from ecommerce group by Region order by Total_Sales desc;"
      ],
      "metadata": {
        "colab": {
          "base_uri": "https://localhost:8080/",
          "height": 159
        },
        "id": "4ubu3NjYggdV",
        "outputId": "3627151d-411f-4bd7-a123-0b068bc6f865"
      },
      "execution_count": null,
      "outputs": [
        {
          "output_type": "stream",
          "name": "stdout",
          "text": [
            " * sqlite:///ecommerce.db\n",
            "Done.\n"
          ]
        },
        {
          "output_type": "execute_result",
          "data": {
            "text/plain": [
              "[('East', 25790.0), ('South', 20822.0), ('West', 28471.0), ('North', 23018.0)]"
            ],
            "text/html": [
              "<table>\n",
              "    <thead>\n",
              "        <tr>\n",
              "            <th>Region</th>\n",
              "            <th>Sum(Round(Total_Sales))</th>\n",
              "        </tr>\n",
              "    </thead>\n",
              "    <tbody>\n",
              "        <tr>\n",
              "            <td>East</td>\n",
              "            <td>25790.0</td>\n",
              "        </tr>\n",
              "        <tr>\n",
              "            <td>South</td>\n",
              "            <td>20822.0</td>\n",
              "        </tr>\n",
              "        <tr>\n",
              "            <td>West</td>\n",
              "            <td>28471.0</td>\n",
              "        </tr>\n",
              "        <tr>\n",
              "            <td>North</td>\n",
              "            <td>23018.0</td>\n",
              "        </tr>\n",
              "    </tbody>\n",
              "</table>"
            ]
          },
          "metadata": {},
          "execution_count": 66
        }
      ]
    },
    {
      "cell_type": "code",
      "source": [
        "#correlation between sales and category\n",
        "import seaborn as sns\n",
        "sns.scatterplot(y = full_merge['Price'],x= full_merge['Quantity'],data = full_merge)\n",
        "plt.show()"
      ],
      "metadata": {
        "colab": {
          "base_uri": "https://localhost:8080/",
          "height": 449
        },
        "id": "fjmnhk6jjat6",
        "outputId": "fa173c21-f413-4339-c0c4-1eecea06a6e9"
      },
      "execution_count": null,
      "outputs": [
        {
          "output_type": "display_data",
          "data": {
            "text/plain": [
              "<Figure size 640x480 with 1 Axes>"
            ],
            "image/png": "[encoded data removed]"
          },
          "metadata": {}
        }
      ]
    },
    {
      "cell_type": "code",
      "source": [
        "#box plot\n",
        "plt.figure(figsize=(10, 6))\n",
        "sns.boxplot(x= full_merge['Category'], y=full_merge['Price'], data=full_merge, palette=\"Set2\")\n",
        "plt.title(\"Box Plot of Prices by Category\")\n",
        "plt.xlabel(\"Category\")\n",
        "plt.ylabel(\"Price\")\n",
        "plt.xticks(rotation=45)\n",
        "plt.show()"
      ],
      "metadata": {
        "colab": {
          "base_uri": "https://localhost:8080/",
          "height": 766
        },
        "id": "16MfTUjBkYsw",
        "outputId": "d05837a7-2d17-40e7-b999-033b7fbb0dbb"
      },
      "execution_count": null,
      "outputs": [
        {
          "output_type": "stream",
          "name": "stderr",
          "text": [
            "<ipython-input-68-2d967dcdb252>:3: FutureWarning:\n",
            "\n",
            "\n",
            "\n",
            "Passing `palette` without assigning `hue` is deprecated and will be removed in v0.14.0. Assign the `x` variable to `hue` and set `legend=False` for the same effect.\n",
            "\n",
            "\n"
          ]
        },
        {
          "output_type": "display_data",
          "data": {
            "text/plain": [
              "<Figure size 1000x600 with 1 Axes>"
            ],
            "image/png": "[encoded data removed]"
          },
          "metadata": {}
        }
      ]
    },
    {
      "cell_type": "code",
      "source": [
        "!pip install dash pandas plotly"
      ],
      "metadata": {
        "colab": {
          "base_uri": "https://localhost:8080/"
        },
        "id": "EUEzHs14nnRO",
        "outputId": "30230e24-2873-4037-f8af-2b04051a298a"
      },
      "execution_count": null,
      "outputs": [
        {
          "output_type": "stream",
          "name": "stdout",
          "text": [
            "Requirement already satisfied: dash in /usr/local/lib/python3.10/dist-packages (2.18.2)\n",
            "Requirement already satisfied: pandas in /usr/local/lib/python3.10/dist-packages (2.2.2)\n",
            "Requirement already satisfied: plotly in /usr/local/lib/python3.10/dist-packages (5.24.1)\n",
            "Requirement already satisfied: Flask<3.1,>=1.0.4 in /usr/local/lib/python3.10/dist-packages (from dash) (3.0.3)\n",
            "Requirement already satisfied: Werkzeug<3.1 in /usr/local/lib/python3.10/dist-packages (from dash) (3.0.6)\n",
            "Requirement already satisfied: dash-html-components==2.0.0 in /usr/local/lib/python3.10/dist-packages (from dash) (2.0.0)\n",
            "Requirement already satisfied: dash-core-components==2.0.0 in /usr/local/lib/python3.10/dist-packages (from dash) (2.0.0)\n",
            "Requirement already satisfied: dash-table==5.0.0 in /usr/local/lib/python3.10/dist-packages (from dash) (5.0.0)\n",
            "Requirement already satisfied: importlib-metadata in /usr/local/lib/python3.10/dist-packages (from dash) (8.5.0)\n",
            "Requirement already satisfied: typing-extensions>=4.1.1 in /usr/local/lib/python3.10/dist-packages (from dash) (4.12.2)\n",
            "Requirement already satisfied: requests in /usr/local/lib/python3.10/dist-packages (from dash) (2.32.3)\n",
            "Requirement already satisfied: retrying in /usr/local/lib/python3.10/dist-packages (from dash) (1.3.4)\n",
            "Requirement already satisfied: nest-asyncio in /usr/local/lib/python3.10/dist-packages (from dash) (1.6.0)\n",
            "Requirement already satisfied: setuptools in /usr/local/lib/python3.10/dist-packages (from dash) (75.1.0)\n",
            "Requirement already satisfied: numpy>=1.22.4 in /usr/local/lib/python3.10/dist-packages (from pandas) (1.26.4)\n",
            "Requirement already satisfied: python-dateutil>=2.8.2 in /usr/local/lib/python3.10/dist-packages (from pandas) (2.8.2)\n",
            "Requirement already satisfied: pytz>=2020.1 in /usr/local/lib/python3.10/dist-packages (from pandas) (2024.2)\n",
            "Requirement already satisfied: tzdata>=2022.7 in /usr/local/lib/python3.10/dist-packages (from pandas) (2024.2)\n",
            "Requirement already satisfied: tenacity>=6.2.0 in /usr/local/lib/python3.10/dist-packages (from plotly) (9.0.0)\n",
            "Requirement already satisfied: packaging in /usr/local/lib/python3.10/dist-packages (from plotly) (24.2)\n",
            "Requirement already satisfied: Jinja2>=3.1.2 in /usr/local/lib/python3.10/dist-packages (from Flask<3.1,>=1.0.4->dash) (3.1.5)\n",
            "Requirement already satisfied: itsdangerous>=2.1.2 in /usr/local/lib/python3.10/dist-packages (from Flask<3.1,>=1.0.4->dash) (2.2.0)\n",
            "Requirement already satisfied: click>=8.1.3 in /usr/local/lib/python3.10/dist-packages (from Flask<3.1,>=1.0.4->dash) (8.1.8)\n",
            "Requirement already satisfied: blinker>=1.6.2 in /usr/local/lib/python3.10/dist-packages (from Flask<3.1,>=1.0.4->dash) (1.9.0)\n",
            "Requirement already satisfied: six>=1.5 in /usr/local/lib/python3.10/dist-packages (from python-dateutil>=2.8.2->pandas) (1.17.0)\n",
            "Requirement already satisfied: MarkupSafe>=2.1.1 in /usr/local/lib/python3.10/dist-packages (from Werkzeug<3.1->dash) (3.0.2)\n",
            "Requirement already satisfied: zipp>=3.20 in /usr/local/lib/python3.10/dist-packages (from importlib-metadata->dash) (3.21.0)\n",
            "Requirement already satisfied: charset-normalizer<4,>=2 in /usr/local/lib/python3.10/dist-packages (from requests->dash) (3.4.1)\n",
            "Requirement already satisfied: idna<4,>=2.5 in /usr/local/lib/python3.10/dist-packages (from requests->dash) (3.10)\n",
            "Requirement already satisfied: urllib3<3,>=1.21.1 in /usr/local/lib/python3.10/dist-packages (from requests->dash) (2.3.0)\n",
            "Requirement already satisfied: certifi>=2017.4.17 in /usr/local/lib/python3.10/dist-packages (from requests->dash) (2024.12.14)\n"
          ]
        }
      ]
    },
    {
      "cell_type": "code",
      "source": [
        "import dash\n",
        "from dash import dcc, html, Input, Output\n",
        "import plotly.express as px\n",
        "import pandas as pd\n",
        "\n",
        "# Dash Application\n",
        "app = dash.Dash(__name__)\n",
        "\n",
        "# Dropdown options for filters\n",
        "regions = full_merge['Region'].dropna().unique()\n",
        "months = ['Jan', 'Feb', 'Mar', 'Apr', 'May', 'Jun', 'Jul', 'Aug', 'Sep', 'Oct', 'Nov', 'Dec']\n",
        "\n",
        "# Layout of the dashboard\n",
        "app.layout = html.Div([\n",
        "    html.H1(\"Ecommerce Dashboard\", style={'text-align': 'center'}),\n",
        "    html.Div([\n",
        "        html.Div([\n",
        "            html.Label(\"Select Region:\"),\n",
        "            dcc.Dropdown(\n",
        "                id='region-dropdown',\n",
        "                options=[{'label': region, 'value': region} for region in regions],\n",
        "                value=regions[0] if len(regions) > 0 else None\n",
        "            )\n",
        "        ], style={'width': '48%', 'display': 'inline-block'}),\n",
        "        html.Div([\n",
        "            html.Label(\"Select Month:\"),\n",
        "            dcc.Dropdown(\n",
        "                id='month-dropdown',\n",
        "                options=[{'label': month, 'value': month} for month in months],\n",
        "                value='Jan'\n",
        "            )\n",
        "        ], style={'width': '48%', 'display': 'inline-block'}),\n",
        "    ]),\n",
        "    html.Div([\n",
        "        dcc.Graph(id='pie-chart'),\n",
        "        dcc.Graph(id='bar-chart'),\n",
        "        dcc.Graph(id='line-chart'),\n",
        "        dcc.Graph(id='box-plot'),\n",
        "    ])\n",
        "])\n",
        "\n",
        "# Callback to update charts\n",
        "@app.callback(\n",
        "    [Output('pie-chart', 'figure'),\n",
        "     Output('bar-chart', 'figure'),\n",
        "     Output('line-chart', 'figure'),\n",
        "     Output('box-plot', 'figure')],\n",
        "    [Input('region-dropdown', 'value'),\n",
        "     Input('month-dropdown', 'value')]\n",
        ")\n",
        "def update_charts(selected_region, selected_month):\n",
        "    filtered_data = full_merge[\n",
        "        (full_merge['Region'] == selected_region) &\n",
        "        (full_merge['Month'] == selected_month)\n",
        "    ]\n",
        "\n",
        "    pie_fig = px.pie(filtered_data, names='Subcategory', values='Total_Sales', title='Top Subcategory Sales')\n",
        "    bar_fig = px.bar(filtered_data, x='Payment_Method', y='Total_Sales', title='Payment Methods')\n",
        "    line_fig = px.line(filtered_data.groupby('Month')['Total_Sales'].sum().reset_index(), x='Month', y='Total_Sales', title='Monthly Sales')\n",
        "    box_fig = px.box(filtered_data, x='Category', y='Price', title='Prices by Category', color='Category')\n",
        "\n",
        "    return pie_fig, bar_fig, line_fig, box_fig\n",
        "\n",
        "if __name__ == '__main__':\n",
        "    app.run_server(debug=True, port=8050)"
      ],
      "metadata": {
        "id": "t-ddUeXchoFE",
        "colab": {
          "base_uri": "https://localhost:8080/",
          "height": 671
        },
        "outputId": "82bb3be7-962c-434f-8101-042a311eb7d2"
      },
      "execution_count": null,
      "outputs": [
        {
          "output_type": "display_data",
          "data": {
            "text/plain": [
              "<IPython.core.display.Javascript object>"
            ],
            "application/javascript": [
              "(async (port, path, width, height, cache, element) => {\n",
              "    if (!google.colab.kernel.accessAllowed && !cache) {\n",
              "      return;\n",
              "    }\n",
              "    element.appendChild(document.createTextNode(''));\n",
              "    const url = await google.colab.kernel.proxyPort(port, {cache});\n",
              "    const iframe = document.createElement('iframe');\n",
              "    iframe.src = new URL(path, url).toString();\n",
              "    iframe.height = height;\n",
              "    iframe.width = width;\n",
              "    iframe.style.border = 0;\n",
              "    iframe.allow = [\n",
              "        'accelerometer',\n",
              "        'autoplay',\n",
              "        'camera',\n",
              "        'clipboard-read',\n",
              "        'clipboard-write',\n",
              "        'gyroscope',\n",
              "        'magnetometer',\n",
              "        'microphone',\n",
              "        'serial',\n",
              "        'usb',\n",
              "        'xr-spatial-tracking',\n",
              "    ].join('; ');\n",
              "    element.appendChild(iframe);\n",
              "  })(8050, \"/\", \"100%\", 650, false, window.element)"
            ]
          },
          "metadata": {}
        }
      ]
    },
    {
      "cell_type": "code",
      "source": [],
      "metadata": {
        "id": "U24_9BtKZeUO"
      },
      "execution_count": null,
      "outputs": []
    }
  ]
}